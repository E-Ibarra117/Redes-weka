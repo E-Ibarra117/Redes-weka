{
 "cells": [
  {
   "cell_type": "code",
   "execution_count": 2,
   "id": "282c342e-aa2c-4112-a80c-adaffb9d3583",
   "metadata": {},
   "outputs": [],
   "source": [
    "import tensorflow as tf\n",
    "from tensorflow.keras import layers\n",
    "import pandas as pd\n",
    "import numpy as np\n",
    "from tensorflow.keras import datasets, layers, models\n",
    "from tensorflow.keras.utils import to_categorical"
   ]
  },
  {
   "cell_type": "code",
   "execution_count": 32,
   "id": "04d35529-b765-423e-9e95-107d2918c876",
   "metadata": {},
   "outputs": [
    {
     "name": "stdout",
     "output_type": "stream",
     "text": [
      "iris.csv\n"
     ]
    }
   ],
   "source": [
    "dataFolder = ''\n",
    "dataFile = dataFolder + \"iris.csv\"\n",
    "print(dataFile)"
   ]
  },
  {
   "cell_type": "code",
   "execution_count": 33,
   "id": "766c885b-bc52-41cc-98b3-825880412934",
   "metadata": {},
   "outputs": [
    {
     "data": {
      "text/html": [
       "<div>\n",
       "<style scoped>\n",
       "    .dataframe tbody tr th:only-of-type {\n",
       "        vertical-align: middle;\n",
       "    }\n",
       "\n",
       "    .dataframe tbody tr th {\n",
       "        vertical-align: top;\n",
       "    }\n",
       "\n",
       "    .dataframe thead th {\n",
       "        text-align: right;\n",
       "    }\n",
       "</style>\n",
       "<table border=\"1\" class=\"dataframe\">\n",
       "  <thead>\n",
       "    <tr style=\"text-align: right;\">\n",
       "      <th></th>\n",
       "      <th>5.1</th>\n",
       "      <th>3.5</th>\n",
       "      <th>1.4</th>\n",
       "      <th>0.2</th>\n",
       "      <th>Iris-setosa</th>\n",
       "    </tr>\n",
       "  </thead>\n",
       "  <tbody>\n",
       "    <tr>\n",
       "      <th>0</th>\n",
       "      <td>4.9</td>\n",
       "      <td>3.0</td>\n",
       "      <td>1.4</td>\n",
       "      <td>0.2</td>\n",
       "      <td>Iris-setosa</td>\n",
       "    </tr>\n",
       "    <tr>\n",
       "      <th>1</th>\n",
       "      <td>4.7</td>\n",
       "      <td>3.2</td>\n",
       "      <td>1.3</td>\n",
       "      <td>0.2</td>\n",
       "      <td>Iris-setosa</td>\n",
       "    </tr>\n",
       "    <tr>\n",
       "      <th>2</th>\n",
       "      <td>4.6</td>\n",
       "      <td>3.1</td>\n",
       "      <td>1.5</td>\n",
       "      <td>0.2</td>\n",
       "      <td>Iris-setosa</td>\n",
       "    </tr>\n",
       "    <tr>\n",
       "      <th>3</th>\n",
       "      <td>5.0</td>\n",
       "      <td>3.6</td>\n",
       "      <td>1.4</td>\n",
       "      <td>0.2</td>\n",
       "      <td>Iris-setosa</td>\n",
       "    </tr>\n",
       "    <tr>\n",
       "      <th>4</th>\n",
       "      <td>5.4</td>\n",
       "      <td>3.9</td>\n",
       "      <td>1.7</td>\n",
       "      <td>0.4</td>\n",
       "      <td>Iris-setosa</td>\n",
       "    </tr>\n",
       "  </tbody>\n",
       "</table>\n",
       "</div>"
      ],
      "text/plain": [
       "   5.1  3.5  1.4  0.2  Iris-setosa\n",
       "0  4.9  3.0  1.4  0.2  Iris-setosa\n",
       "1  4.7  3.2  1.3  0.2  Iris-setosa\n",
       "2  4.6  3.1  1.5  0.2  Iris-setosa\n",
       "3  5.0  3.6  1.4  0.2  Iris-setosa\n",
       "4  5.4  3.9  1.7  0.4  Iris-setosa"
      ]
     },
     "execution_count": 33,
     "metadata": {},
     "output_type": "execute_result"
    }
   ],
   "source": [
    "df = pd.read_csv(dataFile)\n",
    "df.head()"
   ]
  },
  {
   "cell_type": "code",
   "execution_count": 34,
   "id": "571f6981-d434-496e-8373-e6341a3494bf",
   "metadata": {},
   "outputs": [],
   "source": [
    "X = df.iloc[:,0:4].values\n",
    "y = df.iloc[:,4].values"
   ]
  },
  {
   "cell_type": "code",
   "execution_count": 35,
   "id": "7bf3bd55-af55-4804-a482-39b21c52d2e4",
   "metadata": {},
   "outputs": [
    {
     "name": "stdout",
     "output_type": "stream",
     "text": [
      "[[4.9 3.  1.4 0.2]\n",
      " [4.7 3.2 1.3 0.2]\n",
      " [4.6 3.1 1.5 0.2]\n",
      " [5.  3.6 1.4 0.2]\n",
      " [5.4 3.9 1.7 0.4]]\n",
      "['Iris-setosa' 'Iris-setosa' 'Iris-setosa' 'Iris-setosa' 'Iris-setosa']\n"
     ]
    }
   ],
   "source": [
    "print(X[0:5])\n",
    "print(y[0:5])"
   ]
  },
  {
   "cell_type": "code",
   "execution_count": 36,
   "id": "4a7aad3c-dadf-4765-97eb-1ba33432c948",
   "metadata": {},
   "outputs": [
    {
     "name": "stdout",
     "output_type": "stream",
     "text": [
      "(149, 4)\n",
      "(149,)\n"
     ]
    }
   ],
   "source": [
    "print(X.shape)\n",
    "print(y.shape)"
   ]
  },
  {
   "cell_type": "code",
   "execution_count": 37,
   "id": "b9822e73-0f78-4c8a-9edc-0a734c3ec645",
   "metadata": {},
   "outputs": [],
   "source": [
    "from sklearn.preprocessing import LabelEncoder\n",
    "encoder =  LabelEncoder()\n",
    "y1 = encoder.fit_transform(y)"
   ]
  },
  {
   "cell_type": "code",
   "execution_count": 38,
   "id": "097626a9-add3-450e-8e06-33cbf6be8aa5",
   "metadata": {},
   "outputs": [
    {
     "name": "stdout",
     "output_type": "stream",
     "text": [
      "[0 0 0 0 0 0 0 0 0 0 0 0 0 0 0 0 0 0 0 0 0 0 0 0 0 0 0 0 0 0 0 0 0 0 0 0 0\n",
      " 0 0 0 0 0 0 0 0 0 0 0 0 1 1 1 1 1 1 1 1 1 1 1 1 1 1 1 1 1 1 1 1 1 1 1 1 1\n",
      " 1 1 1 1 1 1 1 1 1 1 1 1 1 1 1 1 1 1 1 1 1 1 1 1 1 2 2 2 2 2 2 2 2 2 2 2 2\n",
      " 2 2 2 2 2 2 2 2 2 2 2 2 2 2 2 2 2 2 2 2 2 2 2 2 2 2 2 2 2 2 2 2 2 2 2 2 2\n",
      " 2]\n"
     ]
    }
   ],
   "source": [
    "print(y1)"
   ]
  },
  {
   "cell_type": "code",
   "execution_count": 39,
   "id": "b21f0284-5ea2-4436-9f18-583c57dabae7",
   "metadata": {},
   "outputs": [
    {
     "name": "stdout",
     "output_type": "stream",
     "text": [
      "[[1 0 0]\n",
      " [1 0 0]\n",
      " [1 0 0]\n",
      " [1 0 0]\n",
      " [1 0 0]]\n"
     ]
    }
   ],
   "source": [
    "Y = pd.get_dummies(y1).values\n",
    "print(Y[0:5])"
   ]
  },
  {
   "cell_type": "code",
   "execution_count": 40,
   "id": "a1b3458b-a5e8-4d6a-bf89-f88d2f6b1b10",
   "metadata": {},
   "outputs": [],
   "source": [
    "from sklearn.model_selection import train_test_split\n",
    "X_train, X_test, y_train, y_test = train_test_split(X, Y, test_size=0.2, random_state=0)"
   ]
  },
  {
   "cell_type": "code",
   "execution_count": 41,
   "id": "ec94074c-a192-4399-8d63-c49f8eb764ba",
   "metadata": {},
   "outputs": [
    {
     "name": "stdout",
     "output_type": "stream",
     "text": [
      "[[5.2 3.4 1.4 0.2]\n",
      " [5.1 2.5 3.  1.1]\n",
      " [6.2 2.9 4.3 1.3]\n",
      " [5.9 3.2 4.8 1.8]\n",
      " [5.1 3.8 1.5 0.3]]\n"
     ]
    }
   ],
   "source": [
    "print(X_train[0:5])"
   ]
  },
  {
   "cell_type": "code",
   "execution_count": 42,
   "id": "e92b0006-7d0d-487c-ade2-1fc9fbef1b75",
   "metadata": {},
   "outputs": [
    {
     "name": "stdout",
     "output_type": "stream",
     "text": [
      "[[1 0 0]\n",
      " [0 1 0]\n",
      " [0 1 0]\n",
      " [0 1 0]\n",
      " [1 0 0]]\n"
     ]
    }
   ],
   "source": [
    "print(y_train[0:5])"
   ]
  },
  {
   "cell_type": "code",
   "execution_count": 43,
   "id": "baaf8541-0b33-4226-b5b8-45aae58e7b81",
   "metadata": {},
   "outputs": [
    {
     "name": "stdout",
     "output_type": "stream",
     "text": [
      "[[6.1 2.6 5.6 1.4]\n",
      " [6.5 3.2 5.1 2. ]\n",
      " [5.  2.  3.5 1. ]\n",
      " [5.5 2.4 3.7 1. ]\n",
      " [4.4 2.9 1.4 0.2]]\n"
     ]
    }
   ],
   "source": [
    "print(X_test[0:5])"
   ]
  },
  {
   "cell_type": "code",
   "execution_count": 44,
   "id": "65645ad6-823a-47b6-b40e-69dc156eaac7",
   "metadata": {},
   "outputs": [
    {
     "name": "stdout",
     "output_type": "stream",
     "text": [
      "[[0 0 1]\n",
      " [0 0 1]\n",
      " [0 1 0]\n",
      " [0 1 0]\n",
      " [1 0 0]]\n"
     ]
    }
   ],
   "source": [
    "print(y_test[0:5])"
   ]
  },
  {
   "cell_type": "code",
   "execution_count": 45,
   "id": "0a49e05b-6fc3-427b-b1b6-4e08e40aec94",
   "metadata": {},
   "outputs": [
    {
     "data": {
      "text/plain": [
       "<keras.engine.sequential.Sequential at 0x1c55a24f400>"
      ]
     },
     "execution_count": 45,
     "metadata": {},
     "output_type": "execute_result"
    }
   ],
   "source": [
    "model = tf.keras.Sequential([\n",
    "    tf.keras.layers.Dense(10, activation='sigmoid'),\n",
    "    tf.keras.layers.Dense(10, activation='sigmoid'),\n",
    "    tf.keras.layers.Dense(3, activation='sigmoid')\n",
    "  ])\n",
    "model"
   ]
  },
  {
   "cell_type": "code",
   "execution_count": 46,
   "id": "e2dd47cf-ace5-4868-8c6d-37b4fc356aef",
   "metadata": {},
   "outputs": [],
   "source": [
    "model.compile(optimizer='rmsprop',\n",
    "              loss='categorical_crossentropy',\n",
    "              metrics=['accuracy'])"
   ]
  },
  {
   "cell_type": "code",
   "execution_count": 51,
   "id": "b8fa7767-1a5e-4d27-8d4f-baecb255de74",
   "metadata": {},
   "outputs": [
    {
     "name": "stdout",
     "output_type": "stream",
     "text": [
      "Epoch 1/100\n",
      "12/12 [==============================] - 0s 2ms/step - loss: 0.5520 - accuracy: 0.7563\n",
      "Epoch 2/100\n",
      "12/12 [==============================] - 0s 1ms/step - loss: 0.5440 - accuracy: 0.7311\n",
      "Epoch 3/100\n",
      "12/12 [==============================] - 0s 3ms/step - loss: 0.5365 - accuracy: 0.8067\n",
      "Epoch 4/100\n",
      "12/12 [==============================] - 0s 2ms/step - loss: 0.5299 - accuracy: 0.8403\n",
      "Epoch 5/100\n",
      "12/12 [==============================] - 0s 1ms/step - loss: 0.5230 - accuracy: 0.8319\n",
      "Epoch 6/100\n",
      "12/12 [==============================] - 0s 2ms/step - loss: 0.5170 - accuracy: 0.8487\n",
      "Epoch 7/100\n",
      "12/12 [==============================] - 0s 2ms/step - loss: 0.5112 - accuracy: 0.8571\n",
      "Epoch 8/100\n",
      "12/12 [==============================] - 0s 3ms/step - loss: 0.5050 - accuracy: 0.8571\n",
      "Epoch 9/100\n",
      "12/12 [==============================] - 0s 2ms/step - loss: 0.4994 - accuracy: 0.8739\n",
      "Epoch 10/100\n",
      "12/12 [==============================] - 0s 2ms/step - loss: 0.4940 - accuracy: 0.8487\n",
      "Epoch 11/100\n",
      "12/12 [==============================] - 0s 2ms/step - loss: 0.4882 - accuracy: 0.8739\n",
      "Epoch 12/100\n",
      "12/12 [==============================] - 0s 2ms/step - loss: 0.4835 - accuracy: 0.8739\n",
      "Epoch 13/100\n",
      "12/12 [==============================] - 0s 2ms/step - loss: 0.4776 - accuracy: 0.9412\n",
      "Epoch 14/100\n",
      "12/12 [==============================] - 0s 2ms/step - loss: 0.4721 - accuracy: 0.9328\n",
      "Epoch 15/100\n",
      "12/12 [==============================] - 0s 2ms/step - loss: 0.4662 - accuracy: 0.9076\n",
      "Epoch 16/100\n",
      "12/12 [==============================] - 0s 2ms/step - loss: 0.4608 - accuracy: 0.9328\n",
      "Epoch 17/100\n",
      "12/12 [==============================] - 0s 2ms/step - loss: 0.4567 - accuracy: 0.9580\n",
      "Epoch 18/100\n",
      "12/12 [==============================] - 0s 2ms/step - loss: 0.4507 - accuracy: 0.9580\n",
      "Epoch 19/100\n",
      "12/12 [==============================] - 0s 2ms/step - loss: 0.4465 - accuracy: 0.9580\n",
      "Epoch 20/100\n",
      "12/12 [==============================] - 0s 2ms/step - loss: 0.4410 - accuracy: 0.9580\n",
      "Epoch 21/100\n",
      "12/12 [==============================] - 0s 2ms/step - loss: 0.4359 - accuracy: 0.9580\n",
      "Epoch 22/100\n",
      "12/12 [==============================] - 0s 2ms/step - loss: 0.4312 - accuracy: 0.9580\n",
      "Epoch 23/100\n",
      "12/12 [==============================] - 0s 2ms/step - loss: 0.4252 - accuracy: 0.9580\n",
      "Epoch 24/100\n",
      "12/12 [==============================] - 0s 2ms/step - loss: 0.4207 - accuracy: 0.9580\n",
      "Epoch 25/100\n",
      "12/12 [==============================] - 0s 2ms/step - loss: 0.4155 - accuracy: 0.9580\n",
      "Epoch 26/100\n",
      "12/12 [==============================] - 0s 2ms/step - loss: 0.4112 - accuracy: 0.9580\n",
      "Epoch 27/100\n",
      "12/12 [==============================] - 0s 2ms/step - loss: 0.4059 - accuracy: 0.9580\n",
      "Epoch 28/100\n",
      "12/12 [==============================] - 0s 2ms/step - loss: 0.4016 - accuracy: 0.9580\n",
      "Epoch 29/100\n",
      "12/12 [==============================] - 0s 2ms/step - loss: 0.3967 - accuracy: 0.9580\n",
      "Epoch 30/100\n",
      "12/12 [==============================] - 0s 2ms/step - loss: 0.3922 - accuracy: 0.9580\n",
      "Epoch 31/100\n",
      "12/12 [==============================] - 0s 2ms/step - loss: 0.3869 - accuracy: 0.9664\n",
      "Epoch 32/100\n",
      "12/12 [==============================] - 0s 2ms/step - loss: 0.3826 - accuracy: 0.9664\n",
      "Epoch 33/100\n",
      "12/12 [==============================] - 0s 2ms/step - loss: 0.3776 - accuracy: 0.9580\n",
      "Epoch 34/100\n",
      "12/12 [==============================] - 0s 2ms/step - loss: 0.3716 - accuracy: 0.9580\n",
      "Epoch 35/100\n",
      "12/12 [==============================] - 0s 2ms/step - loss: 0.3673 - accuracy: 0.9580\n",
      "Epoch 36/100\n",
      "12/12 [==============================] - 0s 2ms/step - loss: 0.3614 - accuracy: 0.9580\n",
      "Epoch 37/100\n",
      "12/12 [==============================] - 0s 2ms/step - loss: 0.3562 - accuracy: 0.9748\n",
      "Epoch 38/100\n",
      "12/12 [==============================] - 0s 2ms/step - loss: 0.3521 - accuracy: 0.9748\n",
      "Epoch 39/100\n",
      "12/12 [==============================] - 0s 2ms/step - loss: 0.3470 - accuracy: 0.9664\n",
      "Epoch 40/100\n",
      "12/12 [==============================] - 0s 2ms/step - loss: 0.3422 - accuracy: 0.9580\n",
      "Epoch 41/100\n",
      "12/12 [==============================] - 0s 2ms/step - loss: 0.3371 - accuracy: 0.9748\n",
      "Epoch 42/100\n",
      "12/12 [==============================] - 0s 2ms/step - loss: 0.3322 - accuracy: 0.9664\n",
      "Epoch 43/100\n",
      "12/12 [==============================] - 0s 2ms/step - loss: 0.3269 - accuracy: 0.9580\n",
      "Epoch 44/100\n",
      "12/12 [==============================] - 0s 2ms/step - loss: 0.3224 - accuracy: 0.9832\n",
      "Epoch 45/100\n",
      "12/12 [==============================] - 0s 2ms/step - loss: 0.3169 - accuracy: 0.9664\n",
      "Epoch 46/100\n",
      "12/12 [==============================] - 0s 2ms/step - loss: 0.3126 - accuracy: 0.9748\n",
      "Epoch 47/100\n",
      "12/12 [==============================] - 0s 2ms/step - loss: 0.3093 - accuracy: 0.9664\n",
      "Epoch 48/100\n",
      "12/12 [==============================] - 0s 2ms/step - loss: 0.3036 - accuracy: 0.9664\n",
      "Epoch 49/100\n",
      "12/12 [==============================] - 0s 2ms/step - loss: 0.3001 - accuracy: 0.9664\n",
      "Epoch 50/100\n",
      "12/12 [==============================] - 0s 2ms/step - loss: 0.2962 - accuracy: 0.9664\n",
      "Epoch 51/100\n",
      "12/12 [==============================] - 0s 2ms/step - loss: 0.2918 - accuracy: 0.9664\n",
      "Epoch 52/100\n",
      "12/12 [==============================] - 0s 2ms/step - loss: 0.2877 - accuracy: 0.9748\n",
      "Epoch 53/100\n",
      "12/12 [==============================] - 0s 2ms/step - loss: 0.2839 - accuracy: 0.9664\n",
      "Epoch 54/100\n",
      "12/12 [==============================] - 0s 2ms/step - loss: 0.2791 - accuracy: 0.9664\n",
      "Epoch 55/100\n",
      "12/12 [==============================] - 0s 2ms/step - loss: 0.2759 - accuracy: 0.9664\n",
      "Epoch 56/100\n",
      "12/12 [==============================] - 0s 2ms/step - loss: 0.2726 - accuracy: 0.9748\n",
      "Epoch 57/100\n",
      "12/12 [==============================] - 0s 2ms/step - loss: 0.2684 - accuracy: 0.9664\n",
      "Epoch 58/100\n",
      "12/12 [==============================] - 0s 2ms/step - loss: 0.2641 - accuracy: 0.9748\n",
      "Epoch 59/100\n",
      "12/12 [==============================] - 0s 2ms/step - loss: 0.2617 - accuracy: 0.9664\n",
      "Epoch 60/100\n",
      "12/12 [==============================] - 0s 2ms/step - loss: 0.2574 - accuracy: 0.9664\n",
      "Epoch 61/100\n",
      "12/12 [==============================] - 0s 2ms/step - loss: 0.2544 - accuracy: 0.9664\n",
      "Epoch 62/100\n",
      "12/12 [==============================] - 0s 2ms/step - loss: 0.2499 - accuracy: 0.9748\n",
      "Epoch 63/100\n",
      "12/12 [==============================] - 0s 2ms/step - loss: 0.2464 - accuracy: 0.9664\n",
      "Epoch 64/100\n",
      "12/12 [==============================] - 0s 2ms/step - loss: 0.2442 - accuracy: 0.9664\n",
      "Epoch 65/100\n",
      "12/12 [==============================] - 0s 2ms/step - loss: 0.2404 - accuracy: 0.9664\n",
      "Epoch 66/100\n",
      "12/12 [==============================] - 0s 2ms/step - loss: 0.2364 - accuracy: 0.9664\n",
      "Epoch 67/100\n",
      "12/12 [==============================] - 0s 2ms/step - loss: 0.2329 - accuracy: 0.9664\n",
      "Epoch 68/100\n",
      "12/12 [==============================] - 0s 2ms/step - loss: 0.2306 - accuracy: 0.9664\n",
      "Epoch 69/100\n",
      "12/12 [==============================] - 0s 2ms/step - loss: 0.2280 - accuracy: 0.9664\n",
      "Epoch 70/100\n",
      "12/12 [==============================] - 0s 2ms/step - loss: 0.2242 - accuracy: 0.9748\n",
      "Epoch 71/100\n",
      "12/12 [==============================] - 0s 2ms/step - loss: 0.2212 - accuracy: 0.9664\n",
      "Epoch 72/100\n",
      "12/12 [==============================] - 0s 2ms/step - loss: 0.2178 - accuracy: 0.9748\n",
      "Epoch 73/100\n",
      "12/12 [==============================] - 0s 2ms/step - loss: 0.2159 - accuracy: 0.9748\n",
      "Epoch 74/100\n",
      "12/12 [==============================] - 0s 2ms/step - loss: 0.2133 - accuracy: 0.9748\n",
      "Epoch 75/100\n",
      "12/12 [==============================] - 0s 2ms/step - loss: 0.2096 - accuracy: 0.9664\n",
      "Epoch 76/100\n",
      "12/12 [==============================] - 0s 2ms/step - loss: 0.2072 - accuracy: 0.9748\n",
      "Epoch 77/100\n",
      "12/12 [==============================] - 0s 1ms/step - loss: 0.2063 - accuracy: 0.9664\n",
      "Epoch 78/100\n",
      "12/12 [==============================] - 0s 2ms/step - loss: 0.2016 - accuracy: 0.9748\n",
      "Epoch 79/100\n",
      "12/12 [==============================] - 0s 2ms/step - loss: 0.2002 - accuracy: 0.9664\n",
      "Epoch 80/100\n",
      "12/12 [==============================] - 0s 1ms/step - loss: 0.1979 - accuracy: 0.9748\n",
      "Epoch 81/100\n",
      "12/12 [==============================] - 0s 2ms/step - loss: 0.1950 - accuracy: 0.9748\n",
      "Epoch 82/100\n",
      "12/12 [==============================] - 0s 2ms/step - loss: 0.1930 - accuracy: 0.9748\n",
      "Epoch 83/100\n"
     ]
    },
    {
     "name": "stdout",
     "output_type": "stream",
     "text": [
      "12/12 [==============================] - 0s 2ms/step - loss: 0.1898 - accuracy: 0.9748\n",
      "Epoch 84/100\n",
      "12/12 [==============================] - 0s 2ms/step - loss: 0.1876 - accuracy: 0.9748\n",
      "Epoch 85/100\n",
      "12/12 [==============================] - 0s 2ms/step - loss: 0.1861 - accuracy: 0.9664\n",
      "Epoch 86/100\n",
      "12/12 [==============================] - 0s 2ms/step - loss: 0.1829 - accuracy: 0.9748\n",
      "Epoch 87/100\n",
      "12/12 [==============================] - 0s 1ms/step - loss: 0.1809 - accuracy: 0.9748\n",
      "Epoch 88/100\n",
      "12/12 [==============================] - 0s 2ms/step - loss: 0.1781 - accuracy: 0.9748\n",
      "Epoch 89/100\n",
      "12/12 [==============================] - 0s 2ms/step - loss: 0.1775 - accuracy: 0.9748\n",
      "Epoch 90/100\n",
      "12/12 [==============================] - 0s 2ms/step - loss: 0.1746 - accuracy: 0.9832\n",
      "Epoch 91/100\n",
      "12/12 [==============================] - 0s 2ms/step - loss: 0.1728 - accuracy: 0.9664\n",
      "Epoch 92/100\n",
      "12/12 [==============================] - 0s 2ms/step - loss: 0.1718 - accuracy: 0.9748\n",
      "Epoch 93/100\n",
      "12/12 [==============================] - 0s 2ms/step - loss: 0.1699 - accuracy: 0.9748\n",
      "Epoch 94/100\n",
      "12/12 [==============================] - 0s 2ms/step - loss: 0.1674 - accuracy: 0.9664\n",
      "Epoch 95/100\n",
      "12/12 [==============================] - 0s 2ms/step - loss: 0.1656 - accuracy: 0.9748\n",
      "Epoch 96/100\n",
      "12/12 [==============================] - 0s 2ms/step - loss: 0.1641 - accuracy: 0.9748\n",
      "Epoch 97/100\n",
      "12/12 [==============================] - 0s 2ms/step - loss: 0.1621 - accuracy: 0.9748\n",
      "Epoch 98/100\n",
      "12/12 [==============================] - 0s 2ms/step - loss: 0.1598 - accuracy: 0.9748\n",
      "Epoch 99/100\n",
      "12/12 [==============================] - 0s 2ms/step - loss: 0.1582 - accuracy: 0.9832\n",
      "Epoch 100/100\n",
      "12/12 [==============================] - 0s 2ms/step - loss: 0.1571 - accuracy: 0.9664\n"
     ]
    },
    {
     "data": {
      "text/plain": [
       "<keras.callbacks.History at 0x1c55def9840>"
      ]
     },
     "execution_count": 51,
     "metadata": {},
     "output_type": "execute_result"
    }
   ],
   "source": [
    "model.fit(X_train, y_train, batch_size=10, epochs=100)\n"
   ]
  },
  {
   "cell_type": "code",
   "execution_count": 52,
   "id": "7b62cddb-572f-4d99-8df2-64c5c20a16a1",
   "metadata": {},
   "outputs": [
    {
     "name": "stdout",
     "output_type": "stream",
     "text": [
      "Test loss: 0.12890873849391937\n",
      "Test accuracy: 1.0\n"
     ]
    }
   ],
   "source": [
    "loss, accuracy = model.evaluate(X_test, y_test, verbose=0)\n",
    "print('Test loss:', loss)\n",
    "print('Test accuracy:', accuracy)"
   ]
  },
  {
   "cell_type": "code",
   "execution_count": 53,
   "id": "4460f551-50da-45ae-b127-9134c160e8b3",
   "metadata": {},
   "outputs": [
    {
     "name": "stdout",
     "output_type": "stream",
     "text": [
      "1/1 [==============================] - 0s 11ms/step\n"
     ]
    },
    {
     "data": {
      "text/plain": [
       "array([[0.00358062, 0.60638815, 0.8832333 ],\n",
       "       [0.00731886, 0.65237707, 0.76782316],\n",
       "       [0.09081833, 0.7650291 , 0.194074  ],\n",
       "       [0.18692528, 0.77980965, 0.10099113],\n",
       "       [0.9702359 , 0.5686012 , 0.00419085],\n",
       "       [0.00180551, 0.5597446 , 0.94068897],\n",
       "       [0.00485369, 0.62759817, 0.836653  ],\n",
       "       [0.09040471, 0.7648241 , 0.19185771],\n",
       "       [0.00411208, 0.6162367 , 0.8658921 ],\n",
       "       [0.07236703, 0.7579321 , 0.22739218],\n",
       "       [0.97204524, 0.5631428 , 0.00403869],\n",
       "       [0.97086906, 0.56680423, 0.00413473],\n",
       "       [0.03601108, 0.7333048 , 0.3835662 ],\n",
       "       [0.97048444, 0.5681639 , 0.00416277],\n",
       "       [0.9720306 , 0.56295955, 0.00404536],\n",
       "       [0.00976587, 0.6698197 , 0.71330374],\n",
       "       [0.00325639, 0.60080475, 0.8905127 ],\n",
       "       [0.1330265 , 0.7766496 , 0.1350914 ],\n",
       "       [0.97461146, 0.5542622 , 0.00382664],\n",
       "       [0.97556883, 0.55070233, 0.0037473 ],\n",
       "       [0.96165234, 0.59125996, 0.00484186],\n",
       "       [0.9729495 , 0.56018156, 0.00396438],\n",
       "       [0.06278565, 0.75701535, 0.2517523 ],\n",
       "       [0.9688622 , 0.5728004 , 0.00429458],\n",
       "       [0.03072766, 0.7276709 , 0.4210203 ],\n",
       "       [0.14069772, 0.7744992 , 0.13124871],\n",
       "       [0.04781632, 0.7454068 , 0.3129845 ],\n",
       "       [0.97483414, 0.55352664, 0.00380707],\n",
       "       [0.97246814, 0.561616  , 0.00400783],\n",
       "       [0.00218919, 0.57391864, 0.92675376]], dtype=float32)"
      ]
     },
     "execution_count": 53,
     "metadata": {},
     "output_type": "execute_result"
    }
   ],
   "source": [
    "y_pred = model.predict(X_test)\n",
    "y_pred"
   ]
  },
  {
   "cell_type": "code",
   "execution_count": 54,
   "id": "7443d371-157d-43c7-b9a0-103c7003edd4",
   "metadata": {},
   "outputs": [
    {
     "name": "stdout",
     "output_type": "stream",
     "text": [
      "Actual: [2 2 1 1 0 2 2 1 2 1 0 0 1 0 0 2 2 1 0 0 0 0 1 0 1 1 1 0 0 2]\n",
      "Predicted: [2 2 1 1 0 2 2 1 2 1 0 0 1 0 0 2 2 1 0 0 0 0 1 0 1 1 1 0 0 2]\n"
     ]
    }
   ],
   "source": [
    "actual = np.argmax(y_test,axis=1)\n",
    "predicted = np.argmax(y_pred,axis=1)\n",
    "print(f\"Actual: {actual}\")\n",
    "print(f\"Predicted: {predicted}\")"
   ]
  },
  {
   "cell_type": "code",
   "execution_count": null,
   "id": "5f81241f-2c40-4a89-96c1-b89d1b2a5bd6",
   "metadata": {},
   "outputs": [],
   "source": []
  },
  {
   "cell_type": "code",
   "execution_count": null,
   "id": "351ec0de",
   "metadata": {},
   "outputs": [],
   "source": []
  },
  {
   "cell_type": "code",
   "execution_count": null,
   "id": "b95921aa",
   "metadata": {},
   "outputs": [],
   "source": []
  }
 ],
 "metadata": {
  "kernelspec": {
   "display_name": "Python 3 (ipykernel)",
   "language": "python",
   "name": "python3"
  },
  "language_info": {
   "codemirror_mode": {
    "name": "ipython",
    "version": 3
   },
   "file_extension": ".py",
   "mimetype": "text/x-python",
   "name": "python",
   "nbconvert_exporter": "python",
   "pygments_lexer": "ipython3",
   "version": "3.10.10"
  }
 },
 "nbformat": 4,
 "nbformat_minor": 5
}
